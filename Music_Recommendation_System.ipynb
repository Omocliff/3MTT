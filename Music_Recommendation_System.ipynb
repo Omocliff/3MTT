{
  "nbformat": 4,
  "nbformat_minor": 0,
  "metadata": {
    "colab": {
      "provenance": [],
      "toc_visible": true,
      "authorship_tag": "ABX9TyM2AkkQ4dEmRTDBB7hsQTNC",
      "include_colab_link": true
    },
    "kernelspec": {
      "name": "python3",
      "display_name": "Python 3"
    },
    "language_info": {
      "name": "python"
    }
  },
  "cells": [
    {
      "cell_type": "markdown",
      "metadata": {
        "id": "view-in-github",
        "colab_type": "text"
      },
      "source": [
        "<a href=\"https://colab.research.google.com/github/Omocliff/3MTT/blob/main/Music_Recommendation_System.ipynb\" target=\"_parent\"><img src=\"https://colab.research.google.com/assets/colab-badge.svg\" alt=\"Open In Colab\"/></a>"
      ]
    },
    {
      "cell_type": "code",
      "execution_count": null,
      "metadata": {
        "id": "NieS_jUV9rKk"
      },
      "outputs": [],
      "source": [
        "# to build a simple music recommendation system\n",
        "\n",
        "import pandas as pd\n",
        "music_df = pd.read_csv('/content/music.csv')\n",
        "print(music_df)\n",
        "\n",
        "# to check for missing value\n",
        "print(music_df.notna())\n"
      ]
    },
    {
      "cell_type": "code",
      "source": [
        "# to prepare the data for modelling\n",
        "\n",
        "from sklearn.model_selection import train_test_split\n",
        "from sklearn.tree import DecisionTreeClassifier\n",
        "from sklearn.metrics import accuracy_score\n",
        "\n",
        "# to split dataFrame into features and target\n",
        "X = music_df[['age', 'gender'] ]\n",
        "y = music_df['genre']\n",
        "\n",
        "# to split data into training and testing\n",
        "X_train, X_test, y_train, y_test = train_test_split(X, y, test_size=0.2)\n",
        "\n",
        "# to build and train the model\n",
        "model = DecisionTreeClassifier()\n",
        "model.fit(X_train, y_train)\n",
        "\n",
        "# to make predictions\n",
        "predictions = model.predict(X_test)\n",
        "print(predictions)\n",
        "# to check the accuracy of the model\n",
        "score = accuracy_score(y_test, predictions)\n",
        "print(score)\n"
      ],
      "metadata": {
        "colab": {
          "base_uri": "https://localhost:8080/"
        },
        "id": "kzZ6iX9rOSuk",
        "outputId": "6ef1c07f-b10e-4ede-a147-e07dfbd55029"
      },
      "execution_count": null,
      "outputs": [
        {
          "output_type": "stream",
          "name": "stdout",
          "text": [
            "['HipHop' 'Dance' 'Classical' 'Classical']\n",
            "1.0\n"
          ]
        }
      ]
    }
  ]
}